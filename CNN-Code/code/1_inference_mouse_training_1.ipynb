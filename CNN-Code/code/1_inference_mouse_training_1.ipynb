{
 "cells": [
  {
   "cell_type": "markdown",
   "metadata": {},
   "source": [
    "# Inference \n",
    "- Perform inference on test set using the pre-trained model (use the weights saved in '../code/checkpoints').\n",
    "- Test notebook for script.\n",
    "- Script generates `0107_pred_script.csv`.\n",
    "\n",
    "#### Notes\n",
    "- Run pre-trained model on tile test set.\n",
    "- Test set contains all WSIs except those used for training.\n",
    "- The WSI - EH-15740-002.svs (associated with animal \"123 XL\") was renamed to EH-15740-000.svs in all files to avoid confusion with the WSI with the same name EH-15740-002.svs (associated with animal \"201-223 X4\") and same genotype. "
   ]
  },
  {
   "cell_type": "markdown",
   "metadata": {},
   "source": [
    "***\n",
    "## Inference (test code for script)"
   ]
  },
  {
   "cell_type": "code",
   "execution_count": null,
   "metadata": {},
   "outputs": [],
   "source": [
    "import torch"
   ]
  },
  {
   "cell_type": "code",
   "execution_count": 1,
   "metadata": {},
   "outputs": [],
   "source": [
    "'Load metadata'\n",
    "data_fld = '../data'\n",
    "meta_fld = os.path.join(data_fld, 'mouse_data')\n",
    "path = os.path.join(meta_fld, 'wsi_meta.csv')\n",
    "df_wsi = pd.read_csv(path, index_col=0)\n",
    "path = os.path.join(meta_fld, 'tile_meta_v2.csv')\n",
    "df_tile = pd.read_csv(path, index_col=0)"
   ]
  },
  {
   "cell_type": "code",
   "execution_count": 2,
   "metadata": {},
   "outputs": [],
   "source": [
    "# df_tile"
   ]
  },
  {
   "cell_type": "code",
   "execution_count": 4,
   "metadata": {},
   "outputs": [
    {
     "data": {
      "text/plain": [
       "19664"
      ]
     },
     "execution_count": 4,
     "metadata": {},
     "output_type": "execute_result"
    }
   ],
   "source": [
    "'Load info about training set'\n",
    "#sp_fld = os.path.join(meta_fld, 'sp_h2g_new_trn_1')\n",
    "path = os.path.join(meta_fld, 'tile_train_1_1108.csv')\n",
    "df_trn = pd.read_csv(path, index_col=0)\n",
    "len(df_trn)"
   ]
  },
  {
   "cell_type": "code",
   "execution_count": 5,
   "metadata": {},
   "outputs": [],
   "source": [
    "df_trn.to_csv('../results/Extended_Data_Table_1.csv')"
   ]
  },
  {
   "cell_type": "code",
   "execution_count": 6,
   "metadata": {},
   "outputs": [
    {
     "data": {
      "text/plain": [
       "5982"
      ]
     },
     "execution_count": 6,
     "metadata": {},
     "output_type": "execute_result"
    }
   ],
   "source": [
    "'Build df with train/test bt finding WSI used in training (overestimates)'\n",
    "wsi_trn = df_trn[df_trn.is_in_train].wsi_name.unique()\n",
    "# wsi_trn = [wsi_file.split('.')[0] for wsi_file in wsi_trn]\n",
    "len(wsi_trn)\n",
    "all_wsi = df_tile.wsi_name.unique()\n",
    "# all WSI used in training are found (even though some are duplicated)\n",
    "assert len([wsi in all_wsi for wsi in wsi_trn]) == len(wsi_trn)\n",
    "df = df_tile.copy()\n",
    "df['is_train'] = df.wsi_name.isin(wsi_trn)\n",
    "df['is_test'] = ~df.is_train\n",
    "df.is_train.sum()"
   ]
  },
  {
   "cell_type": "code",
   "execution_count": 7,
   "metadata": {},
   "outputs": [
    {
     "data": {
      "text/plain": [
       "156"
      ]
     },
     "execution_count": 7,
     "metadata": {},
     "output_type": "execute_result"
    }
   ],
   "source": [
    "len(df.groupby('wsi_id').count())"
   ]
  },
  {
   "cell_type": "code",
   "execution_count": 19,
   "metadata": {},
   "outputs": [
    {
     "data": {
      "text/plain": [
       "58"
      ]
     },
     "execution_count": 19,
     "metadata": {},
     "output_type": "execute_result"
    }
   ],
   "source": [
    "mask = df.is_train\n",
    "len(df[mask].groupby('wsi_id').count())"
   ]
  },
  {
   "cell_type": "code",
   "execution_count": 20,
   "metadata": {},
   "outputs": [
    {
     "data": {
      "text/plain": [
       "5982"
      ]
     },
     "execution_count": 20,
     "metadata": {},
     "output_type": "execute_result"
    }
   ],
   "source": [
    "len(df[mask])"
   ]
  },
  {
   "cell_type": "code",
   "execution_count": 21,
   "metadata": {},
   "outputs": [
    {
     "data": {
      "text/plain": [
       "98"
      ]
     },
     "execution_count": 21,
     "metadata": {},
     "output_type": "execute_result"
    }
   ],
   "source": [
    "mask = df.is_test\n",
    "len(df[mask].groupby('wsi_id').count())"
   ]
  },
  {
   "cell_type": "code",
   "execution_count": 24,
   "metadata": {},
   "outputs": [
    {
     "data": {
      "text/plain": [
       "156"
      ]
     },
     "execution_count": 24,
     "metadata": {},
     "output_type": "execute_result"
    }
   ],
   "source": [
    "58 + 98"
   ]
  },
  {
   "cell_type": "code",
   "execution_count": 22,
   "metadata": {},
   "outputs": [
    {
     "data": {
      "text/plain": [
       "17609"
      ]
     },
     "execution_count": 22,
     "metadata": {},
     "output_type": "execute_result"
    }
   ],
   "source": [
    "len(df[mask])"
   ]
  },
  {
   "cell_type": "code",
   "execution_count": 23,
   "metadata": {},
   "outputs": [
    {
     "data": {
      "text/plain": [
       "23591"
      ]
     },
     "execution_count": 23,
     "metadata": {},
     "output_type": "execute_result"
    }
   ],
   "source": [
    "17609 + 5982"
   ]
  },
  {
   "cell_type": "code",
   "execution_count": 8,
   "metadata": {},
   "outputs": [
    {
     "data": {
      "text/plain": [
       "CBTP        62\n",
       "CBT         27\n",
       "CBTP3       21\n",
       "CBT3        20\n",
       "CBTA        12\n",
       "CBTPA       11\n",
       "Multiple     3\n",
       "Name: genotype, dtype: int64"
      ]
     },
     "execution_count": 8,
     "metadata": {},
     "output_type": "execute_result"
    }
   ],
   "source": [
    "g = df.groupby(['genotype', 'wsi_id'])\n",
    "g.size().to_frame().reset_index()['genotype'].value_counts()"
   ]
  },
  {
   "cell_type": "code",
   "execution_count": 9,
   "metadata": {},
   "outputs": [
    {
     "data": {
      "text/plain": [
       "56"
      ]
     },
     "execution_count": 9,
     "metadata": {},
     "output_type": "execute_result"
    }
   ],
   "source": [
    "mask = df_trn.is_in_train == True\n",
    "len(df_trn[mask].wsi_name.unique())"
   ]
  },
  {
   "cell_type": "code",
   "execution_count": 10,
   "metadata": {},
   "outputs": [
    {
     "data": {
      "text/plain": [
       "92"
      ]
     },
     "execution_count": 10,
     "metadata": {},
     "output_type": "execute_result"
    }
   ],
   "source": [
    "len(df_trn[~mask].wsi_name.unique())"
   ]
  },
  {
   "cell_type": "code",
   "execution_count": 11,
   "metadata": {},
   "outputs": [
    {
     "data": {
      "text/plain": [
       "17"
      ]
     },
     "execution_count": 11,
     "metadata": {},
     "output_type": "execute_result"
    }
   ],
   "source": [
    "trn_animals = df_trn[mask].animal_id.unique()\n",
    "len(trn_animals)"
   ]
  },
  {
   "cell_type": "code",
   "execution_count": 12,
   "metadata": {},
   "outputs": [
    {
     "data": {
      "text/html": [
       "<div>\n",
       "<style scoped>\n",
       "    .dataframe tbody tr th:only-of-type {\n",
       "        vertical-align: middle;\n",
       "    }\n",
       "\n",
       "    .dataframe tbody tr th {\n",
       "        vertical-align: top;\n",
       "    }\n",
       "\n",
       "    .dataframe thead th {\n",
       "        text-align: right;\n",
       "    }\n",
       "</style>\n",
       "<table border=\"1\" class=\"dataframe\">\n",
       "  <thead>\n",
       "    <tr style=\"text-align: right;\">\n",
       "      <th></th>\n",
       "      <th>wsi_id</th>\n",
       "      <th>wsi_name</th>\n",
       "      <th>genotype</th>\n",
       "      <th>x_tile_coord</th>\n",
       "      <th>y_tile_coord</th>\n",
       "      <th>file</th>\n",
       "      <th>batch</th>\n",
       "      <th>animal_id</th>\n",
       "      <th>dissected_region</th>\n",
       "      <th>is_CBTP_old</th>\n",
       "      <th>unique_wsi</th>\n",
       "      <th>connected_component</th>\n",
       "      <th>is_train</th>\n",
       "      <th>is_test</th>\n",
       "    </tr>\n",
       "    <tr>\n",
       "      <th>Unnamed: 0</th>\n",
       "      <th></th>\n",
       "      <th></th>\n",
       "      <th></th>\n",
       "      <th></th>\n",
       "      <th></th>\n",
       "      <th></th>\n",
       "      <th></th>\n",
       "      <th></th>\n",
       "      <th></th>\n",
       "      <th></th>\n",
       "      <th></th>\n",
       "      <th></th>\n",
       "      <th></th>\n",
       "      <th></th>\n",
       "    </tr>\n",
       "  </thead>\n",
       "  <tbody>\n",
       "    <tr>\n",
       "      <th>1452</th>\n",
       "      <td>Eran Hodis 2020-09-15-001_CBT3</td>\n",
       "      <td>Eran Hodis 2020-09-15-001.svs</td>\n",
       "      <td>CBT3</td>\n",
       "      <td>38</td>\n",
       "      <td>13</td>\n",
       "      <td>Eran Hodis 2020-09-15-001_38_13_CBT3.png</td>\n",
       "      <td>L41</td>\n",
       "      <td>125</td>\n",
       "      <td>XLR</td>\n",
       "      <td>False</td>\n",
       "      <td>Eran Hodis 2020-09-15-001.svs</td>\n",
       "      <td>4</td>\n",
       "      <td>True</td>\n",
       "      <td>False</td>\n",
       "    </tr>\n",
       "    <tr>\n",
       "      <th>1453</th>\n",
       "      <td>Eran Hodis 2020-09-15-001_CBT3</td>\n",
       "      <td>Eran Hodis 2020-09-15-001.svs</td>\n",
       "      <td>CBT3</td>\n",
       "      <td>3</td>\n",
       "      <td>10</td>\n",
       "      <td>Eran Hodis 2020-09-15-001_3_10_CBT3.png</td>\n",
       "      <td>L41</td>\n",
       "      <td>125</td>\n",
       "      <td>XLR</td>\n",
       "      <td>False</td>\n",
       "      <td>Eran Hodis 2020-09-15-001.svs</td>\n",
       "      <td>3</td>\n",
       "      <td>True</td>\n",
       "      <td>False</td>\n",
       "    </tr>\n",
       "    <tr>\n",
       "      <th>1454</th>\n",
       "      <td>Eran Hodis 2020-09-15-001_CBT3</td>\n",
       "      <td>Eran Hodis 2020-09-15-001.svs</td>\n",
       "      <td>CBT3</td>\n",
       "      <td>43</td>\n",
       "      <td>12</td>\n",
       "      <td>Eran Hodis 2020-09-15-001_43_12_CBT3.png</td>\n",
       "      <td>L41</td>\n",
       "      <td>125</td>\n",
       "      <td>XLR</td>\n",
       "      <td>False</td>\n",
       "      <td>Eran Hodis 2020-09-15-001.svs</td>\n",
       "      <td>4</td>\n",
       "      <td>True</td>\n",
       "      <td>False</td>\n",
       "    </tr>\n",
       "    <tr>\n",
       "      <th>1455</th>\n",
       "      <td>Eran Hodis 2020-09-15-001_CBT3</td>\n",
       "      <td>Eran Hodis 2020-09-15-001.svs</td>\n",
       "      <td>CBT3</td>\n",
       "      <td>19</td>\n",
       "      <td>2</td>\n",
       "      <td>Eran Hodis 2020-09-15-001_19_2_CBT3.png</td>\n",
       "      <td>L41</td>\n",
       "      <td>125</td>\n",
       "      <td>XLR</td>\n",
       "      <td>False</td>\n",
       "      <td>Eran Hodis 2020-09-15-001.svs</td>\n",
       "      <td>1</td>\n",
       "      <td>True</td>\n",
       "      <td>False</td>\n",
       "    </tr>\n",
       "    <tr>\n",
       "      <th>1456</th>\n",
       "      <td>Eran Hodis 2020-09-15-001_CBT3</td>\n",
       "      <td>Eran Hodis 2020-09-15-001.svs</td>\n",
       "      <td>CBT3</td>\n",
       "      <td>18</td>\n",
       "      <td>5</td>\n",
       "      <td>Eran Hodis 2020-09-15-001_18_5_CBT3.png</td>\n",
       "      <td>L41</td>\n",
       "      <td>125</td>\n",
       "      <td>XLR</td>\n",
       "      <td>False</td>\n",
       "      <td>Eran Hodis 2020-09-15-001.svs</td>\n",
       "      <td>1</td>\n",
       "      <td>True</td>\n",
       "      <td>False</td>\n",
       "    </tr>\n",
       "    <tr>\n",
       "      <th>...</th>\n",
       "      <td>...</td>\n",
       "      <td>...</td>\n",
       "      <td>...</td>\n",
       "      <td>...</td>\n",
       "      <td>...</td>\n",
       "      <td>...</td>\n",
       "      <td>...</td>\n",
       "      <td>...</td>\n",
       "      <td>...</td>\n",
       "      <td>...</td>\n",
       "      <td>...</td>\n",
       "      <td>...</td>\n",
       "      <td>...</td>\n",
       "      <td>...</td>\n",
       "    </tr>\n",
       "    <tr>\n",
       "      <th>23543</th>\n",
       "      <td>Eran Hodis 2020-09-15-030_CBTP</td>\n",
       "      <td>Eran Hodis 2020-09-15-030.svs</td>\n",
       "      <td>CBTP</td>\n",
       "      <td>4</td>\n",
       "      <td>1</td>\n",
       "      <td>Eran Hodis 2020-09-15-030_4_1_CBTP.png</td>\n",
       "      <td>L41</td>\n",
       "      <td>195</td>\n",
       "      <td>XR</td>\n",
       "      <td>False</td>\n",
       "      <td>Eran Hodis 2020-09-15-030.svs</td>\n",
       "      <td>1</td>\n",
       "      <td>True</td>\n",
       "      <td>False</td>\n",
       "    </tr>\n",
       "    <tr>\n",
       "      <th>23544</th>\n",
       "      <td>Eran Hodis 2020-09-15-030_CBTP</td>\n",
       "      <td>Eran Hodis 2020-09-15-030.svs</td>\n",
       "      <td>CBTP</td>\n",
       "      <td>41</td>\n",
       "      <td>8</td>\n",
       "      <td>Eran Hodis 2020-09-15-030_41_8_CBTP.png</td>\n",
       "      <td>L41</td>\n",
       "      <td>195</td>\n",
       "      <td>XR</td>\n",
       "      <td>False</td>\n",
       "      <td>Eran Hodis 2020-09-15-030.svs</td>\n",
       "      <td>2</td>\n",
       "      <td>True</td>\n",
       "      <td>False</td>\n",
       "    </tr>\n",
       "    <tr>\n",
       "      <th>23545</th>\n",
       "      <td>Eran Hodis 2020-09-15-030_CBTP</td>\n",
       "      <td>Eran Hodis 2020-09-15-030.svs</td>\n",
       "      <td>CBTP</td>\n",
       "      <td>5</td>\n",
       "      <td>2</td>\n",
       "      <td>Eran Hodis 2020-09-15-030_5_2_CBTP.png</td>\n",
       "      <td>L41</td>\n",
       "      <td>195</td>\n",
       "      <td>XR</td>\n",
       "      <td>False</td>\n",
       "      <td>Eran Hodis 2020-09-15-030.svs</td>\n",
       "      <td>1</td>\n",
       "      <td>True</td>\n",
       "      <td>False</td>\n",
       "    </tr>\n",
       "    <tr>\n",
       "      <th>23546</th>\n",
       "      <td>Eran Hodis 2020-09-15-030_CBTP</td>\n",
       "      <td>Eran Hodis 2020-09-15-030.svs</td>\n",
       "      <td>CBTP</td>\n",
       "      <td>41</td>\n",
       "      <td>5</td>\n",
       "      <td>Eran Hodis 2020-09-15-030_41_5_CBTP.png</td>\n",
       "      <td>L41</td>\n",
       "      <td>195</td>\n",
       "      <td>XR</td>\n",
       "      <td>False</td>\n",
       "      <td>Eran Hodis 2020-09-15-030.svs</td>\n",
       "      <td>2</td>\n",
       "      <td>True</td>\n",
       "      <td>False</td>\n",
       "    </tr>\n",
       "    <tr>\n",
       "      <th>23547</th>\n",
       "      <td>Eran Hodis 2020-09-15-030_CBTP</td>\n",
       "      <td>Eran Hodis 2020-09-15-030.svs</td>\n",
       "      <td>CBTP</td>\n",
       "      <td>41</td>\n",
       "      <td>7</td>\n",
       "      <td>Eran Hodis 2020-09-15-030_41_7_CBTP.png</td>\n",
       "      <td>L41</td>\n",
       "      <td>195</td>\n",
       "      <td>XR</td>\n",
       "      <td>False</td>\n",
       "      <td>Eran Hodis 2020-09-15-030.svs</td>\n",
       "      <td>2</td>\n",
       "      <td>True</td>\n",
       "      <td>False</td>\n",
       "    </tr>\n",
       "  </tbody>\n",
       "</table>\n",
       "<p>5584 rows × 14 columns</p>\n",
       "</div>"
      ],
      "text/plain": [
       "                                    wsi_id                       wsi_name  \\\n",
       "Unnamed: 0                                                                  \n",
       "1452        Eran Hodis 2020-09-15-001_CBT3  Eran Hodis 2020-09-15-001.svs   \n",
       "1453        Eran Hodis 2020-09-15-001_CBT3  Eran Hodis 2020-09-15-001.svs   \n",
       "1454        Eran Hodis 2020-09-15-001_CBT3  Eran Hodis 2020-09-15-001.svs   \n",
       "1455        Eran Hodis 2020-09-15-001_CBT3  Eran Hodis 2020-09-15-001.svs   \n",
       "1456        Eran Hodis 2020-09-15-001_CBT3  Eran Hodis 2020-09-15-001.svs   \n",
       "...                                    ...                            ...   \n",
       "23543       Eran Hodis 2020-09-15-030_CBTP  Eran Hodis 2020-09-15-030.svs   \n",
       "23544       Eran Hodis 2020-09-15-030_CBTP  Eran Hodis 2020-09-15-030.svs   \n",
       "23545       Eran Hodis 2020-09-15-030_CBTP  Eran Hodis 2020-09-15-030.svs   \n",
       "23546       Eran Hodis 2020-09-15-030_CBTP  Eran Hodis 2020-09-15-030.svs   \n",
       "23547       Eran Hodis 2020-09-15-030_CBTP  Eran Hodis 2020-09-15-030.svs   \n",
       "\n",
       "           genotype  x_tile_coord  y_tile_coord  \\\n",
       "Unnamed: 0                                        \n",
       "1452           CBT3            38            13   \n",
       "1453           CBT3             3            10   \n",
       "1454           CBT3            43            12   \n",
       "1455           CBT3            19             2   \n",
       "1456           CBT3            18             5   \n",
       "...             ...           ...           ...   \n",
       "23543          CBTP             4             1   \n",
       "23544          CBTP            41             8   \n",
       "23545          CBTP             5             2   \n",
       "23546          CBTP            41             5   \n",
       "23547          CBTP            41             7   \n",
       "\n",
       "                                                file batch animal_id  \\\n",
       "Unnamed: 0                                                             \n",
       "1452        Eran Hodis 2020-09-15-001_38_13_CBT3.png   L41       125   \n",
       "1453         Eran Hodis 2020-09-15-001_3_10_CBT3.png   L41       125   \n",
       "1454        Eran Hodis 2020-09-15-001_43_12_CBT3.png   L41       125   \n",
       "1455         Eran Hodis 2020-09-15-001_19_2_CBT3.png   L41       125   \n",
       "1456         Eran Hodis 2020-09-15-001_18_5_CBT3.png   L41       125   \n",
       "...                                              ...   ...       ...   \n",
       "23543         Eran Hodis 2020-09-15-030_4_1_CBTP.png   L41       195   \n",
       "23544        Eran Hodis 2020-09-15-030_41_8_CBTP.png   L41       195   \n",
       "23545         Eran Hodis 2020-09-15-030_5_2_CBTP.png   L41       195   \n",
       "23546        Eran Hodis 2020-09-15-030_41_5_CBTP.png   L41       195   \n",
       "23547        Eran Hodis 2020-09-15-030_41_7_CBTP.png   L41       195   \n",
       "\n",
       "           dissected_region  is_CBTP_old                     unique_wsi  \\\n",
       "Unnamed: 0                                                                \n",
       "1452                    XLR        False  Eran Hodis 2020-09-15-001.svs   \n",
       "1453                    XLR        False  Eran Hodis 2020-09-15-001.svs   \n",
       "1454                    XLR        False  Eran Hodis 2020-09-15-001.svs   \n",
       "1455                    XLR        False  Eran Hodis 2020-09-15-001.svs   \n",
       "1456                    XLR        False  Eran Hodis 2020-09-15-001.svs   \n",
       "...                     ...          ...                            ...   \n",
       "23543                    XR        False  Eran Hodis 2020-09-15-030.svs   \n",
       "23544                    XR        False  Eran Hodis 2020-09-15-030.svs   \n",
       "23545                    XR        False  Eran Hodis 2020-09-15-030.svs   \n",
       "23546                    XR        False  Eran Hodis 2020-09-15-030.svs   \n",
       "23547                    XR        False  Eran Hodis 2020-09-15-030.svs   \n",
       "\n",
       "            connected_component  is_train  is_test  \n",
       "Unnamed: 0                                          \n",
       "1452                          4      True    False  \n",
       "1453                          3      True    False  \n",
       "1454                          4      True    False  \n",
       "1455                          1      True    False  \n",
       "1456                          1      True    False  \n",
       "...                         ...       ...      ...  \n",
       "23543                         1      True    False  \n",
       "23544                         2      True    False  \n",
       "23545                         1      True    False  \n",
       "23546                         2      True    False  \n",
       "23547                         2      True    False  \n",
       "\n",
       "[5584 rows x 14 columns]"
      ]
     },
     "execution_count": 12,
     "metadata": {},
     "output_type": "execute_result"
    }
   ],
   "source": [
    "df[df.animal_id.isin(trn_animals)]\r\n",
    "\r\n",
    "pd.merge(df, trn_animals_dr, how = 'inner', on = ['animal_id', 'dissected_region'])"
   ]
  },
  {
   "cell_type": "code",
   "execution_count": 13,
   "metadata": {},
   "outputs": [
    {
     "data": {
      "text/plain": [
       "27"
      ]
     },
     "execution_count": 13,
     "metadata": {},
     "output_type": "execute_result"
    }
   ],
   "source": [
    "len(df_trn[~mask].animal_id.unique())"
   ]
  },
  {
   "cell_type": "code",
   "execution_count": 14,
   "metadata": {},
   "outputs": [
    {
     "data": {
      "text/plain": [
       "3"
      ]
     },
     "execution_count": 14,
     "metadata": {},
     "output_type": "execute_result"
    }
   ],
   "source": [
    "len(df_trn[mask].batch.unique())"
   ]
  },
  {
   "cell_type": "code",
   "execution_count": 15,
   "metadata": {},
   "outputs": [
    {
     "data": {
      "text/plain": [
       "3"
      ]
     },
     "execution_count": 15,
     "metadata": {},
     "output_type": "execute_result"
    }
   ],
   "source": [
    "len(df_trn[~mask].batch.unique())"
   ]
  },
  {
   "cell_type": "code",
   "execution_count": 16,
   "metadata": {},
   "outputs": [],
   "source": [
    "'Create test set'\n",
    "df_tst = df[df.is_test]"
   ]
  },
  {
   "cell_type": "markdown",
   "metadata": {},
   "source": [
    "In importing this model check that:\n",
    "- it loads the ORIGINAL weights of the patchwise network (`/weights_pw1.pth` even though it says it fails).\n",
    "- it loads the SAURABH weights for the image wise network (`'/weights_iw_h2gnew_trn1.pth`)"
   ]
  },
  {
   "cell_type": "code",
   "execution_count": 19,
   "metadata": {},
   "outputs": [
    {
     "data": {
      "text/plain": [
       "148"
      ]
     },
     "execution_count": 19,
     "metadata": {},
     "output_type": "execute_result"
    }
   ],
   "source": [
    "df_trn.unique_wsi.nunique()"
   ]
  },
  {
   "cell_type": "code",
   "execution_count": 27,
   "metadata": {},
   "outputs": [
    {
     "data": {
      "text/plain": [
       "array(['Eran Hodis 2020-09-15-012_Multiple',\n",
       "       'Eran Hodis 2020-09-14-012_Multiple', 'EH-15740-048_Multiple',\n",
       "       'Eran Hodis 2020-09-14-049_CBT3', 'Eran Hodis 2020-09-15_CBT3',\n",
       "       'EH-15740-035_CBT3', 'EH-15740-033_CBT3',\n",
       "       'Eran Hodis 2020-09-14_CBT3', 'Eran Hodis 2020-09-15-022_CBTP3',\n",
       "       'Eran Hodis 2020-09-14-017_CBTP3', 'EH-15740-028_CBTP3',\n",
       "       'EH-15740-030_CBTP3', 'Eran Hodis 2020-09-14-021_CBTP3',\n",
       "       'Eran Hodis 2020-09-15-021_CBTP3',\n",
       "       'Eran Hodis 2020-09-15-020_CBTP3',\n",
       "       'Eran Hodis 2020-09-14-023_CBTP3', 'EH-15740-025_CBTP3',\n",
       "       'Eran Hodis 2020-09-15-019_CBTP3', 'EH-15740-029_CBTP3',\n",
       "       'EH-15740-024_CBTP3', 'Eran Hodis 2020-09-14-019_CBTP3',\n",
       "       'Eran Hodis 2020-09-14-020_CBTP3',\n",
       "       'Eran Hodis 2020-09-15-017_CBTP3',\n",
       "       'Eran Hodis 2020-09-15-044_CBTA', 'EH-15740-023_CBTA',\n",
       "       'Eran Hodis 2020-09-14-045_CBTA', 'Eran Hodis 2020-09-15-045_CBTA',\n",
       "       'EH-15740-022_CBTA', 'Eran Hodis 2020-09-14-046_CBTA',\n",
       "       'Eran Hodis 2020-09-15-013_CBTPA',\n",
       "       'Eran Hodis 2020-09-15-014_CBTPA',\n",
       "       'Eran Hodis 2020-09-14-013_CBTPA',\n",
       "       'Eran Hodis 2020-09-14-016_CBTPA', 'EH-15740-038_CBTPA',\n",
       "       'EH-15740-039_CBTPA', 'Eran Hodis 2020-09-14-014_CBTPA',\n",
       "       'Eran Hodis 2020-09-15-016_CBTPA', 'Eran Hodis 2020-09-14-005_CBT',\n",
       "       'Eran Hodis 2020-09-14-007_CBT', 'Eran Hodis 2020-09-15-010_CBT',\n",
       "       'Eran Hodis 2020-09-14-010_CBT', 'EH-15740-043_CBT',\n",
       "       'EH-15740-046_CBT', 'Eran Hodis 2020-09-15-003_CBT',\n",
       "       'Eran Hodis 2020-09-15-005_CBT', 'EH-15740-042_CBT',\n",
       "       'Eran Hodis 2020-09-14-004_CBT', 'Eran Hodis 2020-09-15-007_CBT',\n",
       "       'EH-15740-040_CBT', 'Eran Hodis 2020-09-14-003_CBT',\n",
       "       'EH-15740-041_CBT', 'Eran Hodis 2020-09-15-004_CBT',\n",
       "       'EH-15740-001_CBTP', 'Eran Hodis 2020-09-15-035_CBTP',\n",
       "       'Eran Hodis 2020-09-14-040_CBTP', 'EH-15740-013_CBTP',\n",
       "       'Eran Hodis 2020-09-14-043_CBTP', 'EH-15740-012_CBTP',\n",
       "       'Eran Hodis 2020-09-14-041_CBTP', 'Eran Hodis 2020-09-15-040_CBTP',\n",
       "       'Eran Hodis 2020-09-15-041_CBTP', 'EH-15740-014_CBTP',\n",
       "       'Eran Hodis 2020-09-14-042_CBTP', 'EH-15740-011_CBTP',\n",
       "       'EH-15740-000_CBTP', 'Eran Hodis 2020-09-15-034_CBTP',\n",
       "       'Eran Hodis 2020-09-15-026_CBTP', 'Eran Hodis 2020-09-14-039_CBTP',\n",
       "       'Eran Hodis 2020-09-15-036_CBTP', 'Eran Hodis 2020-09-15-037_CBTP',\n",
       "       'EH-15740-019_CBTP', 'EH-15740-015_CBTP',\n",
       "       'Eran Hodis 2020-09-14-035_CBTP', 'Eran Hodis 2020-09-15-032_CBTP',\n",
       "       'Eran Hodis 2020-09-14-024_CBTP', 'Eran Hodis 2020-09-15-038_CBTP',\n",
       "       'Eran Hodis 2020-09-14-033_CBTP', 'Eran Hodis 2020-09-14-034_CBTP',\n",
       "       'Eran Hodis 2020-09-15-028_CBTP', 'Eran Hodis 2020-09-14-038_CBTP',\n",
       "       'EH-15740-010_CBTP', 'EH-15740-016_CBTP',\n",
       "       'Eran Hodis 2020-09-14-036_CBTP', 'EH-15740-017_CBTP',\n",
       "       'Eran Hodis 2020-09-14-053_CBTP', 'EH-15740-018_CBTP',\n",
       "       'Eran Hodis 2020-09-15-039_CBTP', 'Eran Hodis 2020-09-15-042_CBTP',\n",
       "       'Eran Hodis 2020-09-15-031_CBTP', 'Eran Hodis 2020-09-15-033_CBTP',\n",
       "       'Eran Hodis 2020-09-14-032_CBTP', 'Eran Hodis 2020-09-14-025_CBTP',\n",
       "       'Eran Hodis 2020-09-15-024_CBTP', 'Eran Hodis 2020-09-14-029_CBTP',\n",
       "       'EH-15740-007_CBTP', 'Eran Hodis 2020-09-14-028_CBTP',\n",
       "       'Eran Hodis 2020-09-15-025_CBTP', 'EH-15740-006_CBTP'],\n",
       "      dtype=object)"
      ]
     },
     "execution_count": 27,
     "metadata": {},
     "output_type": "execute_result"
    }
   ],
   "source": [
    "df_tst.wsi_id.unique()"
   ]
  },
  {
   "cell_type": "code",
   "execution_count": 22,
   "metadata": {},
   "outputs": [
    {
     "data": {
      "text/plain": [
       "98"
      ]
     },
     "execution_count": 22,
     "metadata": {},
     "output_type": "execute_result"
    }
   ],
   "source": [
    "df_tst.unique_wsi.nunique()"
   ]
  },
  {
   "cell_type": "code",
   "execution_count": 17,
   "metadata": {},
   "outputs": [
    {
     "name": "stdout",
     "output_type": "stream",
     "text": [
      "\n",
      "------------ Options -------------\n",
      "batch_size: 64\n",
      "beta1: 0.9\n",
      "beta2: 0.999\n",
      "channels: 1\n",
      "checkpoints_path: ./checkpoints\n",
      "cuda: True\n",
      "dataset_path: /home/tbiancal/melanoma_images/2021_1_7_set\n",
      "debug: False\n",
      "ensemble: 1\n",
      "epochs: 10\n",
      "gpu_ids: 0\n",
      "log_interval: 5\n",
      "lr: 0.001\n",
      "network: 0\n",
      "no_cuda: False\n",
      "patch_stride: 256\n",
      "seed: 1\n",
      "test_batch_size: 64\n",
      "testset_path: ./home/tbiancal/melanoma_images/2021_1_7_set/test\n",
      "-------------- End ----------------\n",
      "\n"
     ]
    }
   ],
   "source": [
    "from src import *\n",
    "import sys\n",
    "sys.argv[1:] = []\n",
    "args = ModelOptions().parse()"
   ]
  },
  {
   "cell_type": "code",
   "execution_count": 8,
   "metadata": {},
   "outputs": [
    {
     "name": "stdout",
     "output_type": "stream",
     "text": [
      "Loading \"image-wise\" model...\n",
      "Loading \"patch-wise\" model...\n",
      "Failed to load pre-trained network from  ./checkpoints/weights_pw1.pth\n"
     ]
    }
   ],
   "source": [
    "pw_network = PatchWiseNetwork(args.channels)\n",
    "iw_network = ImageWiseNetwork(args.channels)\n",
    "im_model = ImageWiseModel(args, iw_network, pw_network)"
   ]
  },
  {
   "cell_type": "code",
   "execution_count": 17,
   "metadata": {},
   "outputs": [
    {
     "ename": "AttributeError",
     "evalue": "'ImageWiseModel' object has no attribute 'label'",
     "output_type": "error",
     "traceback": [
      "\u001b[0;31m---------------------------------------------------------------------------\u001b[0m",
      "\u001b[0;31mAttributeError\u001b[0m                            Traceback (most recent call last)",
      "\u001b[0;32m<ipython-input-17-75f4a694b3c8>\u001b[0m in \u001b[0;36m<module>\u001b[0;34m()\u001b[0m\n\u001b[0;32m----> 1\u001b[0;31m \u001b[0mim_model\u001b[0m\u001b[0;34m.\u001b[0m\u001b[0mlabel\u001b[0m\u001b[0;34m\u001b[0m\u001b[0;34m\u001b[0m\u001b[0m\n\u001b[0m",
      "\u001b[0;31mAttributeError\u001b[0m: 'ImageWiseModel' object has no attribute 'label'"
     ]
    }
   ],
   "source": [
    "im_model.label"
   ]
  },
  {
   "cell_type": "code",
   "execution_count": 8,
   "metadata": {},
   "outputs": [],
   "source": [
    "img_fld = os.path.join(fld, 'mouse_tiles')"
   ]
  },
  {
   "cell_type": "code",
   "execution_count": 49,
   "metadata": {},
   "outputs": [],
   "source": [
    "# classes \n",
    "classes = ['CBT', 'CBTA', 'CBTP', 'CBT3', 'CBTPA', 'CBTP3']"
   ]
  },
  {
   "cell_type": "code",
   "execution_count": 53,
   "metadata": {},
   "outputs": [
    {
     "name": "stderr",
     "output_type": "stream",
     "text": [
      "100it [02:05,  1.26s/it]\n"
     ]
    }
   ],
   "source": [
    "preds = []\n",
    "#df_out = df_tst.sample(n=100)\n",
    "for ix, entry in tqdm(df_tst.iterrows()):\n",
    "    tile_fld = os.path.join(img_fld, entry.genotype)\n",
    "    tile_path = os.path.join(tile_fld, entry.file)\n",
    "    assert os.path.isfile(tile_path)\n",
    "    [[pred, conf, file]], output = im_model.test(tile_path, ensemble=args.ensemble == 1, verbose=False)\n",
    "    # output is a tensor of shape\n",
    "    softmax_res = torch.sum(np.exp(output.cpu().data), dim=0)\n",
    "    probs = np.array(softmax_res / torch.sum(softmax_res))\n",
    "    preds.append(probs)\n",
    "df_out['pred_prob'] = preds"
   ]
  },
  {
   "cell_type": "code",
   "execution_count": 54,
   "metadata": {},
   "outputs": [],
   "source": [
    "# ne salvo uno per fare test veloci\n",
    "df_out.to_csv('../results/0107_pred_script.csv')"
   ]
  }
 ],
 "metadata": {
  "kernelspec": {
   "display_name": "Python 3 (ipykernel)",
   "language": "python",
   "name": "python3"
  },
  "language_info": {
   "codemirror_mode": {
    "name": "ipython",
    "version": 3
   },
   "file_extension": ".py",
   "mimetype": "text/x-python",
   "name": "python",
   "nbconvert_exporter": "python",
   "pygments_lexer": "ipython3",
   "version": "3.12.7"
  }
 },
 "nbformat": 4,
 "nbformat_minor": 4
}
